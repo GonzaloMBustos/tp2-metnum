{
  "nbformat": 4,
  "nbformat_minor": 0,
  "metadata": {
    "colab": {
      "provenance": [],
      "collapsed_sections": []
    },
    "kernelspec": {
      "name": "python3",
      "display_name": "Python 3"
    },
    "language_info": {
      "name": "python"
    }
  },
  "cells": [
    {
      "cell_type": "markdown",
      "source": [
        "## **TP2: Métodos** "
      ],
      "metadata": {
        "id": "X5uExnYDPDgb"
      }
    },
    {
      "cell_type": "code",
      "execution_count": null,
      "metadata": {
        "id": "W3DRXwZINIBh"
      },
      "outputs": [],
      "source": [
        "import numpy as np\n",
        "import matplotlib as plt\n",
        "import numpy.linalg as lng\n",
        "from scipy.linalg import lu\n",
        "from scipy import linalg\n",
        "import networkx as nx"
      ]
    },
    {
      "cell_type": "markdown",
      "source": [
        "Leer grafos"
      ],
      "metadata": {
        "id": "2FgIelskEReT"
      }
    },
    {
      "cell_type": "code",
      "source": [
        "def leer_grafo(path):\n",
        "    file = open(path,'r')\n",
        "    n = int(file.readline())\n",
        "    m = int(file.readline())\n",
        "    M = np.zeros((n, n))\n",
        "    i = 0\n",
        "    with open(path,'r') as file:\n",
        "    # reading each line    \n",
        "        for line in file:\n",
        "            if(i>1):\n",
        "                a = int(line.split()[0])\n",
        "                b = int(line.split()[1])\n",
        "                M[a-1][b-1] = 1\n",
        "            i+=1\n",
        "    return M"
      ],
      "metadata": {
        "id": "dUNuwyFsOOQo"
      },
      "execution_count": null,
      "outputs": []
    },
    {
      "cell_type": "code",
      "source": [
        "def leer_karateclub(path = \"drive/MyDrive/Colab Notebooks/tp2/karateclub_matriz.txt\"):\n",
        "  M = np.zeros(34*34).reshape(34, 34)\n",
        "  with open(path,'r') as file:\n",
        "    # reading each line \n",
        "    i = 0\n",
        "    for line in file:\n",
        "      line = line.split()\n",
        "      for j in range(0, len(line)):\n",
        "\n",
        "        M[i][j] = line[j]\n",
        "      i+=1\n",
        "  return M"
      ],
      "metadata": {
        "id": "tDFzJTwnPTE2"
      },
      "execution_count": null,
      "outputs": []
    },
    {
      "cell_type": "code",
      "source": [
        "M = leer_karateclub()\n",
        "import sys \n",
        "np.set_printoptions(threshold=sys.maxsize)\n",
        "np.sum(M)\n"
      ],
      "metadata": {
        "colab": {
          "base_uri": "https://localhost:8080/"
        },
        "id": "f-n3pBuoQmTD",
        "outputId": "944da6c4-df06-44b5-d232-8d2bf2a6e98e"
      },
      "execution_count": null,
      "outputs": [
        {
          "output_type": "execute_result",
          "data": {
            "text/plain": [
              "156.0"
            ]
          },
          "metadata": {},
          "execution_count": 8
        }
      ]
    },
    {
      "cell_type": "code",
      "source": [
        "def leer_facebook(path = \"drive/MyDrive/Colab Notebooks/tp2/ego-facebook.edges\"):\n",
        "  maxInd = 0\n",
        "  m = 0\n",
        "  with open(path,'r') as file:\n",
        "    # reading each line \n",
        "    for line in file:\n",
        "      line = line.split()\n",
        "      m+=1\n",
        "      for j in range(0, len(line)):\n",
        "        maxInd = max(maxInd, int(line[j]))\n",
        "  return [maxInd, m]"
      ],
      "metadata": {
        "id": "Opi3Hb6oTrDs"
      },
      "execution_count": null,
      "outputs": []
    },
    {
      "cell_type": "code",
      "source": [
        "maxInd,m = leer_facebook()\n",
        "m"
      ],
      "metadata": {
        "colab": {
          "base_uri": "https://localhost:8080/"
        },
        "id": "4e3l_GePUFyt",
        "outputId": "bf272998-6e94-408f-968f-36f52c98629a"
      },
      "execution_count": null,
      "outputs": [
        {
          "output_type": "execute_result",
          "data": {
            "text/plain": [
              "28048"
            ]
          },
          "metadata": {},
          "execution_count": 10
        }
      ]
    },
    {
      "cell_type": "markdown",
      "source": [
        "Leer karate club con NetworkX"
      ],
      "metadata": {
        "id": "tEC1Lf14Eok5"
      }
    },
    {
      "cell_type": "code",
      "source": [
        "karate = nx.karate_club_graph()"
      ],
      "metadata": {
        "colab": {
          "base_uri": "https://localhost:8080/",
          "height": 319
        },
        "id": "Xt3E95u-DnLl",
        "outputId": "59272834-1a08-4d6a-85f8-21bd566ef880"
      },
      "execution_count": null,
      "outputs": [
        {
          "output_type": "display_data",
          "data": {
            "text/plain": [
              "<Figure size 432x288 with 1 Axes>"
            ],
            "image/png": "[encoded data removed]"
          },
          "metadata": {}
        }
      ]
    },
    {
      "cell_type": "code",
      "source": [
        "facebook = nx.ego_graph(G, ego)"
      ],
      "metadata": {
        "id": "ABhOXUA6E4o3"
      },
      "execution_count": null,
      "outputs": []
    },
    {
      "cell_type": "markdown",
      "source": [
        "# Centralidad del vector "
      ],
      "metadata": {
        "id": "9eQT3FEZmlKI"
      }
    },
    {
      "cell_type": "code",
      "source": [
        "A = leer_karateclub()"
      ],
      "metadata": {
        "id": "PhAp_dSJmkQN"
      },
      "execution_count": null,
      "outputs": []
    },
    {
      "cell_type": "code",
      "source": [
        "linalg.eig(A)"
      ],
      "metadata": {
        "colab": {
          "base_uri": "https://localhost:8080/"
        },
        "id": "28JRqA3Lmkfm",
        "outputId": "ef38a90e-d93b-4aa2-d1cd-6d5daa46ea43"
      },
      "execution_count": null,
      "outputs": [
        {
          "output_type": "execute_result",
          "data": {
            "text/plain": [
              "(array([ 6.72569773e+00+0.00000000e+00j,  4.97707423e+00+0.00000000e+00j,\n",
              "        -4.48722919e+00+0.00000000e+00j, -3.44793486e+00+0.00000000e+00j,\n",
              "        -3.11069092e+00+0.00000000e+00j,  2.91650670e+00+0.00000000e+00j,\n",
              "        -2.43742443e+00+0.00000000e+00j,  2.30908767e+00+0.00000000e+00j,\n",
              "        -2.09082295e+00+0.00000000e+00j, -1.68768945e+00+0.00000000e+00j,\n",
              "        -1.44407374e+00+0.00000000e+00j, -1.19242425e+00+0.00000000e+00j,\n",
              "        -1.04208785e+00+0.00000000e+00j, -7.92406815e-01+0.00000000e+00j,\n",
              "        -4.18818748e-01+0.00000000e+00j,  1.48615954e+00+0.00000000e+00j,\n",
              "         1.45305566e+00+0.00000000e+00j,  1.08328639e+00+0.00000000e+00j,\n",
              "         1.03145042e+00+0.00000000e+00j,  8.34304102e-01+0.00000000e+00j,\n",
              "         2.99410685e-01+0.00000000e+00j,  4.19729474e-01+0.00000000e+00j,\n",
              "         6.15840589e-01+0.00000000e+00j, -2.00000000e+00+0.00000000e+00j,\n",
              "        -1.84096457e-16+0.00000000e+00j,  3.25975263e-16+0.00000000e+00j,\n",
              "         1.19978798e-16+1.01484071e-16j,  1.19978798e-16-1.01484071e-16j,\n",
              "        -8.24776675e-17+0.00000000e+00j,  4.70919565e-17+6.63862545e-17j,\n",
              "         4.70919565e-17-6.63862545e-17j,  2.16623659e-17+5.90059282e-17j,\n",
              "         2.16623659e-17-5.90059282e-17j,  7.14194652e-17+0.00000000e+00j]),\n",
              " array([[ 3.55491445e-01+0.00000000e+00j,  3.86861073e-01+0.00000000e+00j,\n",
              "          3.17169916e-01+0.00000000e+00j, ...,\n",
              "         -7.29646719e-17+1.95845782e-17j, -7.29646719e-17-1.95845782e-17j,\n",
              "          5.13071037e-17+0.00000000e+00j],\n",
              "        [ 2.65959920e-01+0.00000000e+00j,  2.68939523e-01+0.00000000e+00j,\n",
              "          1.24961276e-01+0.00000000e+00j, ...,\n",
              "          6.09118675e-17-2.70535828e-17j,  6.09118675e-17+2.70535828e-17j,\n",
              "         -2.61411323e-17+0.00000000e+00j],\n",
              "        [ 3.17192504e-01+0.00000000e+00j,  1.31159560e-01+0.00000000e+00j,\n",
              "          2.72615936e-02+0.00000000e+00j, ...,\n",
              "         -2.27743882e-17-1.96452769e-18j, -2.27743882e-17+1.96452769e-18j,\n",
              "          2.22488967e-17+0.00000000e+00j],\n",
              "        ...,\n",
              "        [ 1.91033841e-01+0.00000000e+00j, -1.02234553e-01+0.00000000e+00j,\n",
              "         -2.67358193e-01+0.00000000e+00j, ...,\n",
              "         -2.33840142e-17+3.48955803e-18j, -2.33840142e-17-3.48955803e-18j,\n",
              "          3.62986293e-17+0.00000000e+00j],\n",
              "        [ 3.08644220e-01+0.00000000e+00j, -3.24555829e-01+0.00000000e+00j,\n",
              "          2.81353998e-01+0.00000000e+00j, ...,\n",
              "          5.54709532e-17+3.52488087e-18j,  5.54709532e-17-3.52488087e-18j,\n",
              "         -4.81906997e-17+0.00000000e+00j],\n",
              "        [ 3.73363470e-01+0.00000000e+00j, -3.70589076e-01+0.00000000e+00j,\n",
              "          5.20937124e-01+0.00000000e+00j, ...,\n",
              "         -4.84327103e-17-1.69744439e-17j, -4.84327103e-17+1.69744439e-17j,\n",
              "          4.94387015e-17+0.00000000e+00j]]))"
            ]
          },
          "metadata": {},
          "execution_count": 8
        }
      ]
    }
  ]
}